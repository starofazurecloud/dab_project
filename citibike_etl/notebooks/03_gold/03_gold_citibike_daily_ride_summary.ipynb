{
 "cells": [
  {
   "cell_type": "code",
   "execution_count": 1,
   "id": "8099c3fc",
   "metadata": {},
   "outputs": [],
   "source": [
    "from pyspark.sql.functions import max, min, avg, count, round"
   ]
  },
  {
   "cell_type": "code",
   "execution_count": null,
   "id": "71569c41",
   "metadata": {},
   "outputs": [],
   "source": [
    "catalog = dbutils.widgets.get(\"catalog\")"
   ]
  },
  {
   "cell_type": "code",
   "execution_count": null,
   "id": "8c75b910",
   "metadata": {},
   "outputs": [],
   "source": [
    "df = spark.read.table(f\"{catalog}.02_silver.jc_citibike\")\n",
    "# df = spark.read.table(f\"citibike_dev.02_silver.jc_citibike\")\n",
    "\n"
   ]
  },
  {
   "cell_type": "code",
   "execution_count": 4,
   "id": "a2dddf0c",
   "metadata": {},
   "outputs": [],
   "source": [
    "\n",
    "df = df.groupBy(\"trip_start_date\").agg(\n",
    "    round(max(\"trip_duration_mins\"),2).alias(\"max_trip_duration_mins\"),\n",
    "    round(min(\"trip_duration_mins\"),2).alias(\"min_trip_duration_mins\"),\n",
    "    round(avg(\"trip_duration_mins\"),2).alias(\"avg_trip_duration_mins\"),\n",
    "    count(\"ride_id\").alias(\"total_trips\")\n",
    ")"
   ]
  },
  {
   "cell_type": "code",
   "execution_count": null,
   "id": "27983cef",
   "metadata": {},
   "outputs": [],
   "source": [
    "df.write.\\\n",
    "    mode(\"overwrite\").\\\n",
    "    option(\"overwriteSchema\", \"true\").\\\n",
    "    saveAsTable(f\"{catalog}.03_gold.daily_ride_summary\")\n",
    "\n",
    "# df.write.\\\n",
    "#     mode(\"overwrite\").\\\n",
    "#     option(\"overwriteSchema\", \"true\").\\\n",
    "#     saveAsTable(f\"citibike_dev.03_gold.daily_ride_summary\")"
   ]
  }
 ],
 "metadata": {
  "kernelspec": {
   "display_name": ".venv_dbc",
   "language": "python",
   "name": "python3"
  },
  "language_info": {
   "codemirror_mode": {
    "name": "ipython",
    "version": 3
   },
   "file_extension": ".py",
   "mimetype": "text/x-python",
   "name": "python",
   "nbconvert_exporter": "python",
   "pygments_lexer": "ipython3",
   "version": "3.11.6"
  }
 },
 "nbformat": 4,
 "nbformat_minor": 5
}
